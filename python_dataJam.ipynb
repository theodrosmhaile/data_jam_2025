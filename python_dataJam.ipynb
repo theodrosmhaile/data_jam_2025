{
 "cells": [
  {
   "cell_type": "markdown",
   "id": "bf4e6299-8662-4715-8cca-b0ae4805c5df",
   "metadata": {
    "tags": []
   },
   "source": [
    "## Data-Jam 2025\n",
    "\n",
    "This environment let's you work using **Python**. \n",
    "Descriptions of the variables can be found in the README file."
   ]
  },
  {
   "cell_type": "code",
   "execution_count": 1,
   "id": "a00c04e5-0445-45a5-9e1a-7626964fffc2",
   "metadata": {},
   "outputs": [],
   "source": [
    "import pandas as pd\n",
    "import numpy as np"
   ]
  },
  {
   "cell_type": "code",
   "execution_count": 2,
   "id": "f69e3572-c1d8-4fb7-bdb4-a408721e5383",
   "metadata": {},
   "outputs": [],
   "source": [
    "## Read in Data Files\n",
    "\n",
    "ml_dat17 = pd.read_csv('data/2017_memoryLab_data.csv')\n",
    "ml_dat18 = pd.read_csv('data/2018_memoryLab_data.csv')"
   ]
  },
  {
   "cell_type": "code",
   "execution_count": null,
   "id": "d46773ee-9778-4a64-b4fc-603f894acee5",
   "metadata": {},
   "outputs": [],
   "source": []
  }
 ],
 "metadata": {
  "kernelspec": {
   "display_name": "Python 3 (ipykernel)",
   "language": "python",
   "name": "python3"
  },
  "language_info": {
   "codemirror_mode": {
    "name": "ipython",
    "version": 3
   },
   "file_extension": ".py",
   "mimetype": "text/x-python",
   "name": "python",
   "nbconvert_exporter": "python",
   "pygments_lexer": "ipython3",
   "version": "3.11.11"
  }
 },
 "nbformat": 4,
 "nbformat_minor": 5
}
