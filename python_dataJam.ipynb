{
 "cells": [
  {
   "cell_type": "markdown",
   "id": "bf4e6299-8662-4715-8cca-b0ae4805c5df",
   "metadata": {},
   "source": [
    "## Data-Jam 2025\n",
    "\n",
    "This environment let's you work using **Python**. \n",
    "The data are loaded below and a short description of the variables is also given. "
   ]
  }
 ],
 "metadata": {
  "kernelspec": {
   "display_name": "Python 3 (ipykernel)",
   "language": "python",
   "name": "python3"
  },
  "language_info": {
   "codemirror_mode": {
    "name": "ipython",
    "version": 3
   },
   "file_extension": ".py",
   "mimetype": "text/x-python",
   "name": "python",
   "nbconvert_exporter": "python",
   "pygments_lexer": "ipython3",
   "version": "3.11.4"
  }
 },
 "nbformat": 4,
 "nbformat_minor": 5
}
