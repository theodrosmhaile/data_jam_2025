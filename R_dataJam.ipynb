{
 "cells": [
  {
   "cell_type": "markdown",
   "id": "1cf25451-7b96-4d61-840f-c7c3c9c7f817",
   "metadata": {},
   "source": [
    "Data-Jam 2025\n",
    "\n",
    "This environment let's you work using **R**. The data are loaded below and a short description of the variables is also given.\n"
   ]
  },
  {
   "cell_type": "code",
   "execution_count": null,
   "id": "cb0a02f6-49b4-4af0-a30b-4e68c80cb761",
   "metadata": {},
   "outputs": [],
   "source": []
  }
 ],
 "metadata": {
  "kernelspec": {
   "display_name": "R",
   "language": "R",
   "name": "ir"
  },
  "language_info": {
   "codemirror_mode": "r",
   "file_extension": ".r",
   "mimetype": "text/x-r-source",
   "name": "R",
   "pygments_lexer": "r",
   "version": "4.2.0"
  }
 },
 "nbformat": 4,
 "nbformat_minor": 5
}
